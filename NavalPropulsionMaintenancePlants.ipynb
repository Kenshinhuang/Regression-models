{
 "cells": [
  {
   "cell_type": "markdown",
   "metadata": {},
   "source": [
    "Load the data."
   ]
  },
  {
   "cell_type": "code",
   "execution_count": 1,
   "metadata": {},
   "outputs": [
    {
     "data": {
      "text/html": [
       "<div>\n",
       "<style scoped>\n",
       "    .dataframe tbody tr th:only-of-type {\n",
       "        vertical-align: middle;\n",
       "    }\n",
       "\n",
       "    .dataframe tbody tr th {\n",
       "        vertical-align: top;\n",
       "    }\n",
       "\n",
       "    .dataframe thead th {\n",
       "        text-align: right;\n",
       "    }\n",
       "</style>\n",
       "<table border=\"1\" class=\"dataframe\">\n",
       "  <thead>\n",
       "    <tr style=\"text-align: right;\">\n",
       "      <th></th>\n",
       "      <th>0</th>\n",
       "      <th>1</th>\n",
       "      <th>2</th>\n",
       "      <th>3</th>\n",
       "      <th>4</th>\n",
       "      <th>5</th>\n",
       "      <th>6</th>\n",
       "      <th>7</th>\n",
       "      <th>8</th>\n",
       "      <th>9</th>\n",
       "      <th>10</th>\n",
       "      <th>11</th>\n",
       "      <th>12</th>\n",
       "      <th>13</th>\n",
       "      <th>14</th>\n",
       "      <th>15</th>\n",
       "      <th>16</th>\n",
       "      <th>17</th>\n",
       "    </tr>\n",
       "  </thead>\n",
       "  <tbody>\n",
       "    <tr>\n",
       "      <th>0</th>\n",
       "      <td>1.14</td>\n",
       "      <td>3.0</td>\n",
       "      <td>290.0</td>\n",
       "      <td>1350.0</td>\n",
       "      <td>6680.0</td>\n",
       "      <td>7.58</td>\n",
       "      <td>7.58</td>\n",
       "      <td>464.0</td>\n",
       "      <td>288.0</td>\n",
       "      <td>551.0</td>\n",
       "      <td>1.10</td>\n",
       "      <td>0.998</td>\n",
       "      <td>5.95</td>\n",
       "      <td>1.02</td>\n",
       "      <td>7.14</td>\n",
       "      <td>0.082</td>\n",
       "      <td>0.95</td>\n",
       "      <td>0.975</td>\n",
       "    </tr>\n",
       "    <tr>\n",
       "      <th>1</th>\n",
       "      <td>2.09</td>\n",
       "      <td>6.0</td>\n",
       "      <td>6960.0</td>\n",
       "      <td>1380.0</td>\n",
       "      <td>6830.0</td>\n",
       "      <td>28.20</td>\n",
       "      <td>28.20</td>\n",
       "      <td>635.0</td>\n",
       "      <td>288.0</td>\n",
       "      <td>582.0</td>\n",
       "      <td>1.33</td>\n",
       "      <td>0.998</td>\n",
       "      <td>7.28</td>\n",
       "      <td>1.02</td>\n",
       "      <td>10.70</td>\n",
       "      <td>0.287</td>\n",
       "      <td>0.95</td>\n",
       "      <td>0.975</td>\n",
       "    </tr>\n",
       "    <tr>\n",
       "      <th>2</th>\n",
       "      <td>3.14</td>\n",
       "      <td>9.0</td>\n",
       "      <td>8380.0</td>\n",
       "      <td>1390.0</td>\n",
       "      <td>7110.0</td>\n",
       "      <td>60.40</td>\n",
       "      <td>60.40</td>\n",
       "      <td>606.0</td>\n",
       "      <td>288.0</td>\n",
       "      <td>588.0</td>\n",
       "      <td>1.39</td>\n",
       "      <td>0.998</td>\n",
       "      <td>7.57</td>\n",
       "      <td>1.02</td>\n",
       "      <td>13.10</td>\n",
       "      <td>0.259</td>\n",
       "      <td>0.95</td>\n",
       "      <td>0.975</td>\n",
       "    </tr>\n",
       "    <tr>\n",
       "      <th>3</th>\n",
       "      <td>4.16</td>\n",
       "      <td>12.0</td>\n",
       "      <td>14700.0</td>\n",
       "      <td>1550.0</td>\n",
       "      <td>7790.0</td>\n",
       "      <td>114.00</td>\n",
       "      <td>114.00</td>\n",
       "      <td>661.0</td>\n",
       "      <td>288.0</td>\n",
       "      <td>614.0</td>\n",
       "      <td>1.66</td>\n",
       "      <td>0.998</td>\n",
       "      <td>9.01</td>\n",
       "      <td>1.02</td>\n",
       "      <td>18.10</td>\n",
       "      <td>0.358</td>\n",
       "      <td>0.95</td>\n",
       "      <td>0.975</td>\n",
       "    </tr>\n",
       "    <tr>\n",
       "      <th>4</th>\n",
       "      <td>5.14</td>\n",
       "      <td>15.0</td>\n",
       "      <td>21600.0</td>\n",
       "      <td>1920.0</td>\n",
       "      <td>8490.0</td>\n",
       "      <td>175.00</td>\n",
       "      <td>175.00</td>\n",
       "      <td>731.0</td>\n",
       "      <td>288.0</td>\n",
       "      <td>646.0</td>\n",
       "      <td>2.08</td>\n",
       "      <td>0.998</td>\n",
       "      <td>11.20</td>\n",
       "      <td>1.03</td>\n",
       "      <td>26.40</td>\n",
       "      <td>0.522</td>\n",
       "      <td>0.95</td>\n",
       "      <td>0.975</td>\n",
       "    </tr>\n",
       "  </tbody>\n",
       "</table>\n",
       "</div>"
      ],
      "text/plain": [
       "     0     1        2       3       4       5       6      7      8      9   \\\n",
       "0  1.14   3.0    290.0  1350.0  6680.0    7.58    7.58  464.0  288.0  551.0   \n",
       "1  2.09   6.0   6960.0  1380.0  6830.0   28.20   28.20  635.0  288.0  582.0   \n",
       "2  3.14   9.0   8380.0  1390.0  7110.0   60.40   60.40  606.0  288.0  588.0   \n",
       "3  4.16  12.0  14700.0  1550.0  7790.0  114.00  114.00  661.0  288.0  614.0   \n",
       "4  5.14  15.0  21600.0  1920.0  8490.0  175.00  175.00  731.0  288.0  646.0   \n",
       "\n",
       "     10     11     12    13     14     15    16     17  \n",
       "0  1.10  0.998   5.95  1.02   7.14  0.082  0.95  0.975  \n",
       "1  1.33  0.998   7.28  1.02  10.70  0.287  0.95  0.975  \n",
       "2  1.39  0.998   7.57  1.02  13.10  0.259  0.95  0.975  \n",
       "3  1.66  0.998   9.01  1.02  18.10  0.358  0.95  0.975  \n",
       "4  2.08  0.998  11.20  1.03  26.40  0.522  0.95  0.975  "
      ]
     },
     "execution_count": 1,
     "metadata": {},
     "output_type": "execute_result"
    }
   ],
   "source": [
    "import pandas as pd\n",
    "url=\"https://bd29ee0e-54ab-4daa-9671-d153865d1620.usrfiles.com/ugd/bd29ee_6890ec66fb17468c94c91a9740379182.csv\"\n",
    "df=pd.read_csv(url,header=None)\n",
    "df.head()"
   ]
  },
  {
   "cell_type": "code",
   "execution_count": 2,
   "metadata": {},
   "outputs": [
    {
     "data": {
      "text/plain": [
       "(11934, 18)"
      ]
     },
     "execution_count": 2,
     "metadata": {},
     "output_type": "execute_result"
    }
   ],
   "source": [
    "df.shape"
   ]
  },
  {
   "cell_type": "markdown",
   "metadata": {},
   "source": [
    "According to the dataset description at UCI's website, the dataset has no missing values. "
   ]
  },
  {
   "cell_type": "code",
   "execution_count": 3,
   "metadata": {},
   "outputs": [
    {
     "data": {
      "text/plain": [
       "0     False\n",
       "1     False\n",
       "2     False\n",
       "3     False\n",
       "4     False\n",
       "5     False\n",
       "6     False\n",
       "7     False\n",
       "8     False\n",
       "9     False\n",
       "10    False\n",
       "11    False\n",
       "12    False\n",
       "13    False\n",
       "14    False\n",
       "15    False\n",
       "16    False\n",
       "17    False\n",
       "dtype: bool"
      ]
     },
     "execution_count": 3,
     "metadata": {},
     "output_type": "execute_result"
    }
   ],
   "source": [
    "df.isna().any()"
   ]
  },
  {
   "cell_type": "markdown",
   "metadata": {},
   "source": [
    "Separate the predictor variables and the target variables."
   ]
  },
  {
   "cell_type": "code",
   "execution_count": 4,
   "metadata": {},
   "outputs": [
    {
     "data": {
      "text/html": [
       "<div>\n",
       "<style scoped>\n",
       "    .dataframe tbody tr th:only-of-type {\n",
       "        vertical-align: middle;\n",
       "    }\n",
       "\n",
       "    .dataframe tbody tr th {\n",
       "        vertical-align: top;\n",
       "    }\n",
       "\n",
       "    .dataframe thead th {\n",
       "        text-align: right;\n",
       "    }\n",
       "</style>\n",
       "<table border=\"1\" class=\"dataframe\">\n",
       "  <thead>\n",
       "    <tr style=\"text-align: right;\">\n",
       "      <th></th>\n",
       "      <th>0</th>\n",
       "      <th>1</th>\n",
       "      <th>2</th>\n",
       "      <th>3</th>\n",
       "      <th>4</th>\n",
       "      <th>5</th>\n",
       "      <th>6</th>\n",
       "      <th>7</th>\n",
       "      <th>8</th>\n",
       "      <th>9</th>\n",
       "      <th>10</th>\n",
       "      <th>11</th>\n",
       "      <th>12</th>\n",
       "      <th>13</th>\n",
       "      <th>14</th>\n",
       "      <th>15</th>\n",
       "    </tr>\n",
       "  </thead>\n",
       "  <tbody>\n",
       "    <tr>\n",
       "      <th>0</th>\n",
       "      <td>1.14</td>\n",
       "      <td>3.0</td>\n",
       "      <td>290.0</td>\n",
       "      <td>1350.0</td>\n",
       "      <td>6680.0</td>\n",
       "      <td>7.58</td>\n",
       "      <td>7.58</td>\n",
       "      <td>464.0</td>\n",
       "      <td>288.0</td>\n",
       "      <td>551.0</td>\n",
       "      <td>1.10</td>\n",
       "      <td>0.998</td>\n",
       "      <td>5.95</td>\n",
       "      <td>1.02</td>\n",
       "      <td>7.14</td>\n",
       "      <td>0.082</td>\n",
       "    </tr>\n",
       "    <tr>\n",
       "      <th>1</th>\n",
       "      <td>2.09</td>\n",
       "      <td>6.0</td>\n",
       "      <td>6960.0</td>\n",
       "      <td>1380.0</td>\n",
       "      <td>6830.0</td>\n",
       "      <td>28.20</td>\n",
       "      <td>28.20</td>\n",
       "      <td>635.0</td>\n",
       "      <td>288.0</td>\n",
       "      <td>582.0</td>\n",
       "      <td>1.33</td>\n",
       "      <td>0.998</td>\n",
       "      <td>7.28</td>\n",
       "      <td>1.02</td>\n",
       "      <td>10.70</td>\n",
       "      <td>0.287</td>\n",
       "    </tr>\n",
       "    <tr>\n",
       "      <th>2</th>\n",
       "      <td>3.14</td>\n",
       "      <td>9.0</td>\n",
       "      <td>8380.0</td>\n",
       "      <td>1390.0</td>\n",
       "      <td>7110.0</td>\n",
       "      <td>60.40</td>\n",
       "      <td>60.40</td>\n",
       "      <td>606.0</td>\n",
       "      <td>288.0</td>\n",
       "      <td>588.0</td>\n",
       "      <td>1.39</td>\n",
       "      <td>0.998</td>\n",
       "      <td>7.57</td>\n",
       "      <td>1.02</td>\n",
       "      <td>13.10</td>\n",
       "      <td>0.259</td>\n",
       "    </tr>\n",
       "    <tr>\n",
       "      <th>3</th>\n",
       "      <td>4.16</td>\n",
       "      <td>12.0</td>\n",
       "      <td>14700.0</td>\n",
       "      <td>1550.0</td>\n",
       "      <td>7790.0</td>\n",
       "      <td>114.00</td>\n",
       "      <td>114.00</td>\n",
       "      <td>661.0</td>\n",
       "      <td>288.0</td>\n",
       "      <td>614.0</td>\n",
       "      <td>1.66</td>\n",
       "      <td>0.998</td>\n",
       "      <td>9.01</td>\n",
       "      <td>1.02</td>\n",
       "      <td>18.10</td>\n",
       "      <td>0.358</td>\n",
       "    </tr>\n",
       "    <tr>\n",
       "      <th>4</th>\n",
       "      <td>5.14</td>\n",
       "      <td>15.0</td>\n",
       "      <td>21600.0</td>\n",
       "      <td>1920.0</td>\n",
       "      <td>8490.0</td>\n",
       "      <td>175.00</td>\n",
       "      <td>175.00</td>\n",
       "      <td>731.0</td>\n",
       "      <td>288.0</td>\n",
       "      <td>646.0</td>\n",
       "      <td>2.08</td>\n",
       "      <td>0.998</td>\n",
       "      <td>11.20</td>\n",
       "      <td>1.03</td>\n",
       "      <td>26.40</td>\n",
       "      <td>0.522</td>\n",
       "    </tr>\n",
       "  </tbody>\n",
       "</table>\n",
       "</div>"
      ],
      "text/plain": [
       "     0     1        2       3       4       5       6      7      8      9   \\\n",
       "0  1.14   3.0    290.0  1350.0  6680.0    7.58    7.58  464.0  288.0  551.0   \n",
       "1  2.09   6.0   6960.0  1380.0  6830.0   28.20   28.20  635.0  288.0  582.0   \n",
       "2  3.14   9.0   8380.0  1390.0  7110.0   60.40   60.40  606.0  288.0  588.0   \n",
       "3  4.16  12.0  14700.0  1550.0  7790.0  114.00  114.00  661.0  288.0  614.0   \n",
       "4  5.14  15.0  21600.0  1920.0  8490.0  175.00  175.00  731.0  288.0  646.0   \n",
       "\n",
       "     10     11     12    13     14     15  \n",
       "0  1.10  0.998   5.95  1.02   7.14  0.082  \n",
       "1  1.33  0.998   7.28  1.02  10.70  0.287  \n",
       "2  1.39  0.998   7.57  1.02  13.10  0.259  \n",
       "3  1.66  0.998   9.01  1.02  18.10  0.358  \n",
       "4  2.08  0.998  11.20  1.03  26.40  0.522  "
      ]
     },
     "execution_count": 4,
     "metadata": {},
     "output_type": "execute_result"
    }
   ],
   "source": [
    "X=df.iloc[:,0:16]\n",
    "X.head()"
   ]
  },
  {
   "cell_type": "code",
   "execution_count": 5,
   "metadata": {},
   "outputs": [
    {
     "data": {
      "text/html": [
       "<div>\n",
       "<style scoped>\n",
       "    .dataframe tbody tr th:only-of-type {\n",
       "        vertical-align: middle;\n",
       "    }\n",
       "\n",
       "    .dataframe tbody tr th {\n",
       "        vertical-align: top;\n",
       "    }\n",
       "\n",
       "    .dataframe thead th {\n",
       "        text-align: right;\n",
       "    }\n",
       "</style>\n",
       "<table border=\"1\" class=\"dataframe\">\n",
       "  <thead>\n",
       "    <tr style=\"text-align: right;\">\n",
       "      <th></th>\n",
       "      <th>Compressor_coef</th>\n",
       "    </tr>\n",
       "  </thead>\n",
       "  <tbody>\n",
       "    <tr>\n",
       "      <th>0</th>\n",
       "      <td>0.95</td>\n",
       "    </tr>\n",
       "    <tr>\n",
       "      <th>1</th>\n",
       "      <td>0.95</td>\n",
       "    </tr>\n",
       "    <tr>\n",
       "      <th>2</th>\n",
       "      <td>0.95</td>\n",
       "    </tr>\n",
       "    <tr>\n",
       "      <th>3</th>\n",
       "      <td>0.95</td>\n",
       "    </tr>\n",
       "    <tr>\n",
       "      <th>4</th>\n",
       "      <td>0.95</td>\n",
       "    </tr>\n",
       "  </tbody>\n",
       "</table>\n",
       "</div>"
      ],
      "text/plain": [
       "   Compressor_coef\n",
       "0             0.95\n",
       "1             0.95\n",
       "2             0.95\n",
       "3             0.95\n",
       "4             0.95"
      ]
     },
     "execution_count": 5,
     "metadata": {},
     "output_type": "execute_result"
    }
   ],
   "source": [
    "y16=pd.DataFrame(df.iloc[:,16]).rename(columns={16:\"Compressor_coef\"})\n",
    "y16.head()"
   ]
  },
  {
   "cell_type": "code",
   "execution_count": 6,
   "metadata": {},
   "outputs": [
    {
     "data": {
      "text/html": [
       "<div>\n",
       "<style scoped>\n",
       "    .dataframe tbody tr th:only-of-type {\n",
       "        vertical-align: middle;\n",
       "    }\n",
       "\n",
       "    .dataframe tbody tr th {\n",
       "        vertical-align: top;\n",
       "    }\n",
       "\n",
       "    .dataframe thead th {\n",
       "        text-align: right;\n",
       "    }\n",
       "</style>\n",
       "<table border=\"1\" class=\"dataframe\">\n",
       "  <thead>\n",
       "    <tr style=\"text-align: right;\">\n",
       "      <th></th>\n",
       "      <th>Turbine_coef</th>\n",
       "    </tr>\n",
       "  </thead>\n",
       "  <tbody>\n",
       "    <tr>\n",
       "      <th>0</th>\n",
       "      <td>0.975</td>\n",
       "    </tr>\n",
       "    <tr>\n",
       "      <th>1</th>\n",
       "      <td>0.975</td>\n",
       "    </tr>\n",
       "    <tr>\n",
       "      <th>2</th>\n",
       "      <td>0.975</td>\n",
       "    </tr>\n",
       "    <tr>\n",
       "      <th>3</th>\n",
       "      <td>0.975</td>\n",
       "    </tr>\n",
       "    <tr>\n",
       "      <th>4</th>\n",
       "      <td>0.975</td>\n",
       "    </tr>\n",
       "  </tbody>\n",
       "</table>\n",
       "</div>"
      ],
      "text/plain": [
       "   Turbine_coef\n",
       "0         0.975\n",
       "1         0.975\n",
       "2         0.975\n",
       "3         0.975\n",
       "4         0.975"
      ]
     },
     "execution_count": 6,
     "metadata": {},
     "output_type": "execute_result"
    }
   ],
   "source": [
    "y17=pd.DataFrame(df.iloc[:,17]).rename(columns={17:\"Turbine_coef\"})\n",
    "y17.head()"
   ]
  },
  {
   "cell_type": "markdown",
   "metadata": {},
   "source": [
    "Feature selection."
   ]
  },
  {
   "cell_type": "code",
   "execution_count": 7,
   "metadata": {},
   "outputs": [
    {
     "data": {
      "text/html": [
       "<div>\n",
       "<style scoped>\n",
       "    .dataframe tbody tr th:only-of-type {\n",
       "        vertical-align: middle;\n",
       "    }\n",
       "\n",
       "    .dataframe tbody tr th {\n",
       "        vertical-align: top;\n",
       "    }\n",
       "\n",
       "    .dataframe thead th {\n",
       "        text-align: right;\n",
       "    }\n",
       "</style>\n",
       "<table border=\"1\" class=\"dataframe\">\n",
       "  <thead>\n",
       "    <tr style=\"text-align: right;\">\n",
       "      <th></th>\n",
       "      <th>scores</th>\n",
       "    </tr>\n",
       "  </thead>\n",
       "  <tbody>\n",
       "    <tr>\n",
       "      <th>9</th>\n",
       "      <td>0.836038</td>\n",
       "    </tr>\n",
       "    <tr>\n",
       "      <th>4</th>\n",
       "      <td>0.641331</td>\n",
       "    </tr>\n",
       "    <tr>\n",
       "      <th>10</th>\n",
       "      <td>0.386150</td>\n",
       "    </tr>\n",
       "    <tr>\n",
       "      <th>7</th>\n",
       "      <td>0.211988</td>\n",
       "    </tr>\n",
       "    <tr>\n",
       "      <th>15</th>\n",
       "      <td>0.108184</td>\n",
       "    </tr>\n",
       "    <tr>\n",
       "      <th>5</th>\n",
       "      <td>0.086627</td>\n",
       "    </tr>\n",
       "    <tr>\n",
       "      <th>6</th>\n",
       "      <td>0.085767</td>\n",
       "    </tr>\n",
       "    <tr>\n",
       "      <th>14</th>\n",
       "      <td>0.084815</td>\n",
       "    </tr>\n",
       "    <tr>\n",
       "      <th>2</th>\n",
       "      <td>0.017756</td>\n",
       "    </tr>\n",
       "    <tr>\n",
       "      <th>3</th>\n",
       "      <td>0.014055</td>\n",
       "    </tr>\n",
       "    <tr>\n",
       "      <th>11</th>\n",
       "      <td>0.001592</td>\n",
       "    </tr>\n",
       "    <tr>\n",
       "      <th>0</th>\n",
       "      <td>0.000000</td>\n",
       "    </tr>\n",
       "    <tr>\n",
       "      <th>1</th>\n",
       "      <td>0.000000</td>\n",
       "    </tr>\n",
       "    <tr>\n",
       "      <th>8</th>\n",
       "      <td>0.000000</td>\n",
       "    </tr>\n",
       "    <tr>\n",
       "      <th>12</th>\n",
       "      <td>0.000000</td>\n",
       "    </tr>\n",
       "    <tr>\n",
       "      <th>13</th>\n",
       "      <td>0.000000</td>\n",
       "    </tr>\n",
       "  </tbody>\n",
       "</table>\n",
       "</div>"
      ],
      "text/plain": [
       "      scores\n",
       "9   0.836038\n",
       "4   0.641331\n",
       "10  0.386150\n",
       "7   0.211988\n",
       "15  0.108184\n",
       "5   0.086627\n",
       "6   0.085767\n",
       "14  0.084815\n",
       "2   0.017756\n",
       "3   0.014055\n",
       "11  0.001592\n",
       "0   0.000000\n",
       "1   0.000000\n",
       "8   0.000000\n",
       "12  0.000000\n",
       "13  0.000000"
      ]
     },
     "execution_count": 7,
     "metadata": {},
     "output_type": "execute_result"
    }
   ],
   "source": [
    "import numpy as np\n",
    "from numpy import set_printoptions\n",
    "from sklearn.feature_selection import SelectKBest\n",
    "from sklearn.feature_selection import mutual_info_regression\n",
    "\n",
    "# feature extraction. We are going to output the selection scores for all features and select the features with the highest scores.\n",
    "test = SelectKBest(score_func=mutual_info_regression, k=\"all\")\n",
    "fit = test.fit(X, np.asarray(y16).reshape(y16.shape[0],))\n",
    "features = fit.transform(X)\n",
    "# summarize scores\n",
    "set_printoptions(precision=3)\n",
    "\n",
    "scores=fit.scores_\n",
    "scores=pd.DataFrame(scores)\n",
    "scores=scores.rename(columns={0:\"scores\"})\n",
    "scores=scores.sort_values(by=[\"scores\"],ascending=False)\n",
    "scores"
   ]
  },
  {
   "cell_type": "code",
   "execution_count": 8,
   "metadata": {},
   "outputs": [
    {
     "data": {
      "text/html": [
       "<div>\n",
       "<style scoped>\n",
       "    .dataframe tbody tr th:only-of-type {\n",
       "        vertical-align: middle;\n",
       "    }\n",
       "\n",
       "    .dataframe tbody tr th {\n",
       "        vertical-align: top;\n",
       "    }\n",
       "\n",
       "    .dataframe thead th {\n",
       "        text-align: right;\n",
       "    }\n",
       "</style>\n",
       "<table border=\"1\" class=\"dataframe\">\n",
       "  <thead>\n",
       "    <tr style=\"text-align: right;\">\n",
       "      <th></th>\n",
       "      <th>scores</th>\n",
       "    </tr>\n",
       "  </thead>\n",
       "  <tbody>\n",
       "    <tr>\n",
       "      <th>9</th>\n",
       "      <td>0.836038</td>\n",
       "    </tr>\n",
       "    <tr>\n",
       "      <th>4</th>\n",
       "      <td>0.641331</td>\n",
       "    </tr>\n",
       "    <tr>\n",
       "      <th>10</th>\n",
       "      <td>0.386150</td>\n",
       "    </tr>\n",
       "    <tr>\n",
       "      <th>7</th>\n",
       "      <td>0.211988</td>\n",
       "    </tr>\n",
       "    <tr>\n",
       "      <th>15</th>\n",
       "      <td>0.108184</td>\n",
       "    </tr>\n",
       "    <tr>\n",
       "      <th>5</th>\n",
       "      <td>0.086627</td>\n",
       "    </tr>\n",
       "    <tr>\n",
       "      <th>6</th>\n",
       "      <td>0.085767</td>\n",
       "    </tr>\n",
       "    <tr>\n",
       "      <th>14</th>\n",
       "      <td>0.084815</td>\n",
       "    </tr>\n",
       "    <tr>\n",
       "      <th>2</th>\n",
       "      <td>0.017756</td>\n",
       "    </tr>\n",
       "    <tr>\n",
       "      <th>3</th>\n",
       "      <td>0.014055</td>\n",
       "    </tr>\n",
       "    <tr>\n",
       "      <th>11</th>\n",
       "      <td>0.001592</td>\n",
       "    </tr>\n",
       "  </tbody>\n",
       "</table>\n",
       "</div>"
      ],
      "text/plain": [
       "      scores\n",
       "9   0.836038\n",
       "4   0.641331\n",
       "10  0.386150\n",
       "7   0.211988\n",
       "15  0.108184\n",
       "5   0.086627\n",
       "6   0.085767\n",
       "14  0.084815\n",
       "2   0.017756\n",
       "3   0.014055\n",
       "11  0.001592"
      ]
     },
     "execution_count": 8,
     "metadata": {},
     "output_type": "execute_result"
    }
   ],
   "source": [
    "scores16=scores[scores[\"scores\"]>0]\n",
    "scores16"
   ]
  },
  {
   "cell_type": "code",
   "execution_count": 9,
   "metadata": {},
   "outputs": [
    {
     "data": {
      "text/html": [
       "<div>\n",
       "<style scoped>\n",
       "    .dataframe tbody tr th:only-of-type {\n",
       "        vertical-align: middle;\n",
       "    }\n",
       "\n",
       "    .dataframe tbody tr th {\n",
       "        vertical-align: top;\n",
       "    }\n",
       "\n",
       "    .dataframe thead th {\n",
       "        text-align: right;\n",
       "    }\n",
       "</style>\n",
       "<table border=\"1\" class=\"dataframe\">\n",
       "  <thead>\n",
       "    <tr style=\"text-align: right;\">\n",
       "      <th></th>\n",
       "      <th>9</th>\n",
       "      <th>4</th>\n",
       "      <th>10</th>\n",
       "      <th>7</th>\n",
       "      <th>15</th>\n",
       "      <th>5</th>\n",
       "      <th>6</th>\n",
       "      <th>14</th>\n",
       "      <th>2</th>\n",
       "      <th>3</th>\n",
       "      <th>11</th>\n",
       "    </tr>\n",
       "  </thead>\n",
       "  <tbody>\n",
       "    <tr>\n",
       "      <th>0</th>\n",
       "      <td>551.0</td>\n",
       "      <td>6680.0</td>\n",
       "      <td>1.10</td>\n",
       "      <td>464.0</td>\n",
       "      <td>0.082</td>\n",
       "      <td>7.58</td>\n",
       "      <td>7.58</td>\n",
       "      <td>7.14</td>\n",
       "      <td>290.0</td>\n",
       "      <td>1350.0</td>\n",
       "      <td>0.998</td>\n",
       "    </tr>\n",
       "    <tr>\n",
       "      <th>1</th>\n",
       "      <td>582.0</td>\n",
       "      <td>6830.0</td>\n",
       "      <td>1.33</td>\n",
       "      <td>635.0</td>\n",
       "      <td>0.287</td>\n",
       "      <td>28.20</td>\n",
       "      <td>28.20</td>\n",
       "      <td>10.70</td>\n",
       "      <td>6960.0</td>\n",
       "      <td>1380.0</td>\n",
       "      <td>0.998</td>\n",
       "    </tr>\n",
       "    <tr>\n",
       "      <th>2</th>\n",
       "      <td>588.0</td>\n",
       "      <td>7110.0</td>\n",
       "      <td>1.39</td>\n",
       "      <td>606.0</td>\n",
       "      <td>0.259</td>\n",
       "      <td>60.40</td>\n",
       "      <td>60.40</td>\n",
       "      <td>13.10</td>\n",
       "      <td>8380.0</td>\n",
       "      <td>1390.0</td>\n",
       "      <td>0.998</td>\n",
       "    </tr>\n",
       "    <tr>\n",
       "      <th>3</th>\n",
       "      <td>614.0</td>\n",
       "      <td>7790.0</td>\n",
       "      <td>1.66</td>\n",
       "      <td>661.0</td>\n",
       "      <td>0.358</td>\n",
       "      <td>114.00</td>\n",
       "      <td>114.00</td>\n",
       "      <td>18.10</td>\n",
       "      <td>14700.0</td>\n",
       "      <td>1550.0</td>\n",
       "      <td>0.998</td>\n",
       "    </tr>\n",
       "    <tr>\n",
       "      <th>4</th>\n",
       "      <td>646.0</td>\n",
       "      <td>8490.0</td>\n",
       "      <td>2.08</td>\n",
       "      <td>731.0</td>\n",
       "      <td>0.522</td>\n",
       "      <td>175.00</td>\n",
       "      <td>175.00</td>\n",
       "      <td>26.40</td>\n",
       "      <td>21600.0</td>\n",
       "      <td>1920.0</td>\n",
       "      <td>0.998</td>\n",
       "    </tr>\n",
       "  </tbody>\n",
       "</table>\n",
       "</div>"
      ],
      "text/plain": [
       "      9       4     10     7      15      5       6      14       2       3   \\\n",
       "0  551.0  6680.0  1.10  464.0  0.082    7.58    7.58   7.14    290.0  1350.0   \n",
       "1  582.0  6830.0  1.33  635.0  0.287   28.20   28.20  10.70   6960.0  1380.0   \n",
       "2  588.0  7110.0  1.39  606.0  0.259   60.40   60.40  13.10   8380.0  1390.0   \n",
       "3  614.0  7790.0  1.66  661.0  0.358  114.00  114.00  18.10  14700.0  1550.0   \n",
       "4  646.0  8490.0  2.08  731.0  0.522  175.00  175.00  26.40  21600.0  1920.0   \n",
       "\n",
       "      11  \n",
       "0  0.998  \n",
       "1  0.998  \n",
       "2  0.998  \n",
       "3  0.998  \n",
       "4  0.998  "
      ]
     },
     "execution_count": 9,
     "metadata": {},
     "output_type": "execute_result"
    }
   ],
   "source": [
    "X16=X.iloc[:,scores16.index]\n",
    "X16.head()"
   ]
  },
  {
   "cell_type": "markdown",
   "metadata": {},
   "source": [
    "Based on the result of the feature selection algorithm, for the first target variable, GT Compressor decay state coefficient, I am going to use only 11 of the 16 predictor variables."
   ]
  },
  {
   "cell_type": "code",
   "execution_count": 10,
   "metadata": {},
   "outputs": [
    {
     "data": {
      "text/html": [
       "<div>\n",
       "<style scoped>\n",
       "    .dataframe tbody tr th:only-of-type {\n",
       "        vertical-align: middle;\n",
       "    }\n",
       "\n",
       "    .dataframe tbody tr th {\n",
       "        vertical-align: top;\n",
       "    }\n",
       "\n",
       "    .dataframe thead th {\n",
       "        text-align: right;\n",
       "    }\n",
       "</style>\n",
       "<table border=\"1\" class=\"dataframe\">\n",
       "  <thead>\n",
       "    <tr style=\"text-align: right;\">\n",
       "      <th></th>\n",
       "      <th>scores</th>\n",
       "    </tr>\n",
       "  </thead>\n",
       "  <tbody>\n",
       "    <tr>\n",
       "      <th>12</th>\n",
       "      <td>0.907416</td>\n",
       "    </tr>\n",
       "    <tr>\n",
       "      <th>14</th>\n",
       "      <td>0.220307</td>\n",
       "    </tr>\n",
       "    <tr>\n",
       "      <th>15</th>\n",
       "      <td>0.206124</td>\n",
       "    </tr>\n",
       "    <tr>\n",
       "      <th>4</th>\n",
       "      <td>0.118192</td>\n",
       "    </tr>\n",
       "    <tr>\n",
       "      <th>10</th>\n",
       "      <td>0.062529</td>\n",
       "    </tr>\n",
       "    <tr>\n",
       "      <th>7</th>\n",
       "      <td>0.058355</td>\n",
       "    </tr>\n",
       "    <tr>\n",
       "      <th>13</th>\n",
       "      <td>0.004266</td>\n",
       "    </tr>\n",
       "    <tr>\n",
       "      <th>11</th>\n",
       "      <td>0.002262</td>\n",
       "    </tr>\n",
       "    <tr>\n",
       "      <th>0</th>\n",
       "      <td>0.000000</td>\n",
       "    </tr>\n",
       "    <tr>\n",
       "      <th>1</th>\n",
       "      <td>0.000000</td>\n",
       "    </tr>\n",
       "    <tr>\n",
       "      <th>2</th>\n",
       "      <td>0.000000</td>\n",
       "    </tr>\n",
       "    <tr>\n",
       "      <th>3</th>\n",
       "      <td>0.000000</td>\n",
       "    </tr>\n",
       "    <tr>\n",
       "      <th>5</th>\n",
       "      <td>0.000000</td>\n",
       "    </tr>\n",
       "    <tr>\n",
       "      <th>6</th>\n",
       "      <td>0.000000</td>\n",
       "    </tr>\n",
       "    <tr>\n",
       "      <th>8</th>\n",
       "      <td>0.000000</td>\n",
       "    </tr>\n",
       "    <tr>\n",
       "      <th>9</th>\n",
       "      <td>0.000000</td>\n",
       "    </tr>\n",
       "  </tbody>\n",
       "</table>\n",
       "</div>"
      ],
      "text/plain": [
       "      scores\n",
       "12  0.907416\n",
       "14  0.220307\n",
       "15  0.206124\n",
       "4   0.118192\n",
       "10  0.062529\n",
       "7   0.058355\n",
       "13  0.004266\n",
       "11  0.002262\n",
       "0   0.000000\n",
       "1   0.000000\n",
       "2   0.000000\n",
       "3   0.000000\n",
       "5   0.000000\n",
       "6   0.000000\n",
       "8   0.000000\n",
       "9   0.000000"
      ]
     },
     "execution_count": 10,
     "metadata": {},
     "output_type": "execute_result"
    }
   ],
   "source": [
    "fit = test.fit(X, np.asarray(y17).reshape(y17.shape[0],))\n",
    "features = fit.transform(X)\n",
    "# summarize scores\n",
    "set_printoptions(precision=3)\n",
    "\n",
    "scores=fit.scores_\n",
    "scores=pd.DataFrame(scores)\n",
    "scores=scores.rename(columns={0:\"scores\"})\n",
    "scores=scores.sort_values(by=[\"scores\"],ascending=False)\n",
    "scores"
   ]
  },
  {
   "cell_type": "code",
   "execution_count": 11,
   "metadata": {},
   "outputs": [
    {
     "data": {
      "text/html": [
       "<div>\n",
       "<style scoped>\n",
       "    .dataframe tbody tr th:only-of-type {\n",
       "        vertical-align: middle;\n",
       "    }\n",
       "\n",
       "    .dataframe tbody tr th {\n",
       "        vertical-align: top;\n",
       "    }\n",
       "\n",
       "    .dataframe thead th {\n",
       "        text-align: right;\n",
       "    }\n",
       "</style>\n",
       "<table border=\"1\" class=\"dataframe\">\n",
       "  <thead>\n",
       "    <tr style=\"text-align: right;\">\n",
       "      <th></th>\n",
       "      <th>scores</th>\n",
       "    </tr>\n",
       "  </thead>\n",
       "  <tbody>\n",
       "    <tr>\n",
       "      <th>12</th>\n",
       "      <td>0.907416</td>\n",
       "    </tr>\n",
       "    <tr>\n",
       "      <th>14</th>\n",
       "      <td>0.220307</td>\n",
       "    </tr>\n",
       "    <tr>\n",
       "      <th>15</th>\n",
       "      <td>0.206124</td>\n",
       "    </tr>\n",
       "    <tr>\n",
       "      <th>4</th>\n",
       "      <td>0.118192</td>\n",
       "    </tr>\n",
       "    <tr>\n",
       "      <th>10</th>\n",
       "      <td>0.062529</td>\n",
       "    </tr>\n",
       "    <tr>\n",
       "      <th>7</th>\n",
       "      <td>0.058355</td>\n",
       "    </tr>\n",
       "    <tr>\n",
       "      <th>13</th>\n",
       "      <td>0.004266</td>\n",
       "    </tr>\n",
       "    <tr>\n",
       "      <th>11</th>\n",
       "      <td>0.002262</td>\n",
       "    </tr>\n",
       "  </tbody>\n",
       "</table>\n",
       "</div>"
      ],
      "text/plain": [
       "      scores\n",
       "12  0.907416\n",
       "14  0.220307\n",
       "15  0.206124\n",
       "4   0.118192\n",
       "10  0.062529\n",
       "7   0.058355\n",
       "13  0.004266\n",
       "11  0.002262"
      ]
     },
     "execution_count": 11,
     "metadata": {},
     "output_type": "execute_result"
    }
   ],
   "source": [
    "scores17=scores[scores[\"scores\"]>0]\n",
    "scores17"
   ]
  },
  {
   "cell_type": "code",
   "execution_count": 12,
   "metadata": {},
   "outputs": [
    {
     "data": {
      "text/html": [
       "<div>\n",
       "<style scoped>\n",
       "    .dataframe tbody tr th:only-of-type {\n",
       "        vertical-align: middle;\n",
       "    }\n",
       "\n",
       "    .dataframe tbody tr th {\n",
       "        vertical-align: top;\n",
       "    }\n",
       "\n",
       "    .dataframe thead th {\n",
       "        text-align: right;\n",
       "    }\n",
       "</style>\n",
       "<table border=\"1\" class=\"dataframe\">\n",
       "  <thead>\n",
       "    <tr style=\"text-align: right;\">\n",
       "      <th></th>\n",
       "      <th>12</th>\n",
       "      <th>14</th>\n",
       "      <th>15</th>\n",
       "      <th>4</th>\n",
       "      <th>10</th>\n",
       "      <th>7</th>\n",
       "      <th>13</th>\n",
       "      <th>11</th>\n",
       "    </tr>\n",
       "  </thead>\n",
       "  <tbody>\n",
       "    <tr>\n",
       "      <th>0</th>\n",
       "      <td>5.95</td>\n",
       "      <td>7.14</td>\n",
       "      <td>0.082</td>\n",
       "      <td>6680.0</td>\n",
       "      <td>1.10</td>\n",
       "      <td>464.0</td>\n",
       "      <td>1.02</td>\n",
       "      <td>0.998</td>\n",
       "    </tr>\n",
       "    <tr>\n",
       "      <th>1</th>\n",
       "      <td>7.28</td>\n",
       "      <td>10.70</td>\n",
       "      <td>0.287</td>\n",
       "      <td>6830.0</td>\n",
       "      <td>1.33</td>\n",
       "      <td>635.0</td>\n",
       "      <td>1.02</td>\n",
       "      <td>0.998</td>\n",
       "    </tr>\n",
       "    <tr>\n",
       "      <th>2</th>\n",
       "      <td>7.57</td>\n",
       "      <td>13.10</td>\n",
       "      <td>0.259</td>\n",
       "      <td>7110.0</td>\n",
       "      <td>1.39</td>\n",
       "      <td>606.0</td>\n",
       "      <td>1.02</td>\n",
       "      <td>0.998</td>\n",
       "    </tr>\n",
       "    <tr>\n",
       "      <th>3</th>\n",
       "      <td>9.01</td>\n",
       "      <td>18.10</td>\n",
       "      <td>0.358</td>\n",
       "      <td>7790.0</td>\n",
       "      <td>1.66</td>\n",
       "      <td>661.0</td>\n",
       "      <td>1.02</td>\n",
       "      <td>0.998</td>\n",
       "    </tr>\n",
       "    <tr>\n",
       "      <th>4</th>\n",
       "      <td>11.20</td>\n",
       "      <td>26.40</td>\n",
       "      <td>0.522</td>\n",
       "      <td>8490.0</td>\n",
       "      <td>2.08</td>\n",
       "      <td>731.0</td>\n",
       "      <td>1.03</td>\n",
       "      <td>0.998</td>\n",
       "    </tr>\n",
       "  </tbody>\n",
       "</table>\n",
       "</div>"
      ],
      "text/plain": [
       "      12     14     15      4     10     7     13     11\n",
       "0   5.95   7.14  0.082  6680.0  1.10  464.0  1.02  0.998\n",
       "1   7.28  10.70  0.287  6830.0  1.33  635.0  1.02  0.998\n",
       "2   7.57  13.10  0.259  7110.0  1.39  606.0  1.02  0.998\n",
       "3   9.01  18.10  0.358  7790.0  1.66  661.0  1.02  0.998\n",
       "4  11.20  26.40  0.522  8490.0  2.08  731.0  1.03  0.998"
      ]
     },
     "execution_count": 12,
     "metadata": {},
     "output_type": "execute_result"
    }
   ],
   "source": [
    "X17=X.iloc[:,scores17.index]\n",
    "X17.head()"
   ]
  },
  {
   "cell_type": "markdown",
   "metadata": {},
   "source": [
    "Based on the result of feature selection algorithem, for the second target variable, GT Turbine decay state coefficient, I am only going to use 8 out of the 16 predictor variables."
   ]
  },
  {
   "cell_type": "markdown",
   "metadata": {},
   "source": [
    "Regression model for the GT Compressor Decay Coefficient."
   ]
  },
  {
   "cell_type": "code",
   "execution_count": 13,
   "metadata": {},
   "outputs": [
    {
     "name": "stdout",
     "output_type": "stream",
     "text": [
      "(9547, 11)\n",
      "(2387, 11)\n"
     ]
    }
   ],
   "source": [
    "from sklearn.model_selection import train_test_split\n",
    "X16_train, X16_test, y16_train, y16_test = train_test_split(X16, y16, test_size=0.2, random_state=42)\n",
    "print(X16_train.shape)\n",
    "print(X16_test.shape)"
   ]
  },
  {
   "cell_type": "code",
   "execution_count": 14,
   "metadata": {},
   "outputs": [
    {
     "name": "stderr",
     "output_type": "stream",
     "text": [
      "/home/jupyterlab/conda/envs/python/lib/python3.6/site-packages/sklearn/utils/validation.py:761: DataConversionWarning: A column-vector y was passed when a 1d array was expected. Please change the shape of y to (n_samples, ), for example using ravel().\n",
      "  y = column_or_1d(y, warn=True)\n"
     ]
    },
    {
     "data": {
      "text/plain": [
       "GradientBoostingRegressor(alpha=0.9, criterion='mse', init=None,\n",
       "             learning_rate=0.001, loss='ls', max_depth=45,\n",
       "             max_features='sqrt', max_leaf_nodes=None,\n",
       "             min_impurity_decrease=0.0, min_impurity_split=None,\n",
       "             min_samples_leaf=1, min_samples_split=2,\n",
       "             min_weight_fraction_leaf=0.0, n_estimators=3000,\n",
       "             n_iter_no_change=None, presort='auto', random_state=0,\n",
       "             subsample=1.0, tol=0.0001, validation_fraction=0.1, verbose=0,\n",
       "             warm_start=False)"
      ]
     },
     "execution_count": 14,
     "metadata": {},
     "output_type": "execute_result"
    }
   ],
   "source": [
    "from sklearn.ensemble import GradientBoostingRegressor\n",
    "model=GradientBoostingRegressor(loss='ls',learning_rate=0.001,n_estimators=3000,max_features='sqrt',criterion=\"mse\",max_depth=45,random_state=0).fit(X16_train,y16_train)\n",
    "model"
   ]
  },
  {
   "cell_type": "code",
   "execution_count": 15,
   "metadata": {},
   "outputs": [
    {
     "name": "stdout",
     "output_type": "stream",
     "text": [
      "R-squared for the GT compressor coefficient on train data is:  0.9957539096454002\n"
     ]
    }
   ],
   "source": [
    "from sklearn.metrics import r2_score\n",
    "y16hat=model.predict(X16_train)\n",
    "print(\"R-squared for the GT compressor coefficient on train data is: \",r2_score(y16_train,y16hat))"
   ]
  },
  {
   "cell_type": "code",
   "execution_count": 16,
   "metadata": {},
   "outputs": [
    {
     "name": "stdout",
     "output_type": "stream",
     "text": [
      "R-squared for the GT compressor coefficient on train data is:  0.9861067799499837\n"
     ]
    }
   ],
   "source": [
    "y16hat=model.predict(X16_test)\n",
    "print(\"R-squared for the GT compressor coefficient on train data is: \",r2_score(y16_test,y16hat))"
   ]
  },
  {
   "cell_type": "code",
   "execution_count": 17,
   "metadata": {},
   "outputs": [
    {
     "name": "stdout",
     "output_type": "stream",
     "text": [
      "Absolute error for the GT compressor coefficient on train data is: \n",
      " [5.267e-04 2.021e-04 4.037e-05 ... 3.828e-04 1.155e-03 7.728e-04]\n"
     ]
    }
   ],
   "source": [
    "y16hat=model.predict(X16_train)\n",
    "y16hat=np.asarray(y16hat).reshape(y16hat.shape[0],)\n",
    "y16_train=np.asarray(y16_train).reshape(y16_train.shape[0],)\n",
    "print(\"Absolute error for the GT compressor coefficient on train data is: \\n\",abs(y16_train-y16hat))"
   ]
  },
  {
   "cell_type": "code",
   "execution_count": 18,
   "metadata": {},
   "outputs": [
    {
     "name": "stdout",
     "output_type": "stream",
     "text": [
      "Absolute error for the GT compressor coefficient on test data is: \n",
      " [0.003 0.    0.001 ... 0.002 0.003 0.001]\n"
     ]
    }
   ],
   "source": [
    "y16hat=model.predict(X16_test)\n",
    "y16hat=np.asarray(y16hat).reshape(y16hat.shape[0],)\n",
    "y16_test=np.asarray(y16_test).reshape(y16_test.shape[0],)\n",
    "print(\"Absolute error for the GT compressor coefficient on test data is: \\n\",abs(y16_test-y16hat))"
   ]
  },
  {
   "cell_type": "code",
   "execution_count": 19,
   "metadata": {},
   "outputs": [
    {
     "data": {
      "text/html": [
       "<div>\n",
       "<style scoped>\n",
       "    .dataframe tbody tr th:only-of-type {\n",
       "        vertical-align: middle;\n",
       "    }\n",
       "\n",
       "    .dataframe tbody tr th {\n",
       "        vertical-align: top;\n",
       "    }\n",
       "\n",
       "    .dataframe thead th {\n",
       "        text-align: right;\n",
       "    }\n",
       "</style>\n",
       "<table border=\"1\" class=\"dataframe\">\n",
       "  <thead>\n",
       "    <tr style=\"text-align: right;\">\n",
       "      <th></th>\n",
       "      <th>AbsoluteError_TestData</th>\n",
       "    </tr>\n",
       "  </thead>\n",
       "  <tbody>\n",
       "    <tr>\n",
       "      <th>1690</th>\n",
       "      <td>9.594257e-03</td>\n",
       "    </tr>\n",
       "    <tr>\n",
       "      <th>126</th>\n",
       "      <td>7.667058e-03</td>\n",
       "    </tr>\n",
       "    <tr>\n",
       "      <th>2362</th>\n",
       "      <td>7.585238e-03</td>\n",
       "    </tr>\n",
       "    <tr>\n",
       "      <th>249</th>\n",
       "      <td>7.040776e-03</td>\n",
       "    </tr>\n",
       "    <tr>\n",
       "      <th>153</th>\n",
       "      <td>7.019541e-03</td>\n",
       "    </tr>\n",
       "    <tr>\n",
       "      <th>...</th>\n",
       "      <td>...</td>\n",
       "    </tr>\n",
       "    <tr>\n",
       "      <th>1749</th>\n",
       "      <td>1.821537e-06</td>\n",
       "    </tr>\n",
       "    <tr>\n",
       "      <th>1926</th>\n",
       "      <td>1.211592e-06</td>\n",
       "    </tr>\n",
       "    <tr>\n",
       "      <th>958</th>\n",
       "      <td>9.559897e-07</td>\n",
       "    </tr>\n",
       "    <tr>\n",
       "      <th>67</th>\n",
       "      <td>8.721025e-07</td>\n",
       "    </tr>\n",
       "    <tr>\n",
       "      <th>1895</th>\n",
       "      <td>3.235718e-07</td>\n",
       "    </tr>\n",
       "  </tbody>\n",
       "</table>\n",
       "<p>2387 rows × 1 columns</p>\n",
       "</div>"
      ],
      "text/plain": [
       "      AbsoluteError_TestData\n",
       "1690            9.594257e-03\n",
       "126             7.667058e-03\n",
       "2362            7.585238e-03\n",
       "249             7.040776e-03\n",
       "153             7.019541e-03\n",
       "...                      ...\n",
       "1749            1.821537e-06\n",
       "1926            1.211592e-06\n",
       "958             9.559897e-07\n",
       "67              8.721025e-07\n",
       "1895            3.235718e-07\n",
       "\n",
       "[2387 rows x 1 columns]"
      ]
     },
     "execution_count": 19,
     "metadata": {},
     "output_type": "execute_result"
    }
   ],
   "source": [
    "AE=pd.DataFrame(abs(y16_test-y16hat)).rename(columns={0:\"AbsoluteError_TestData\"}).sort_values(by=[\"AbsoluteError_TestData\"],ascending=False)\n",
    "AE"
   ]
  },
  {
   "cell_type": "code",
   "execution_count": 20,
   "metadata": {},
   "outputs": [
    {
     "name": "stdout",
     "output_type": "stream",
     "text": [
      "The root mean squared error on test data is:  0.0017281945107356356\n"
     ]
    }
   ],
   "source": [
    "from sklearn.metrics import mean_squared_error as mse\n",
    "print(\"The root mean squared error on test data is: \",np.sqrt(mse(y16_test,y16hat)))"
   ]
  },
  {
   "cell_type": "markdown",
   "metadata": {},
   "source": [
    "Regression model for the GT Turbine Coefficient."
   ]
  },
  {
   "cell_type": "code",
   "execution_count": 14,
   "metadata": {},
   "outputs": [
    {
     "name": "stdout",
     "output_type": "stream",
     "text": [
      "(9547, 8)\n",
      "(2387, 8)\n"
     ]
    }
   ],
   "source": [
    "from sklearn.model_selection import train_test_split\n",
    "X17_train, X17_test, y17_train, y17_test = train_test_split(X17, y17, test_size=0.2, random_state=42)\n",
    "print(X17_train.shape)\n",
    "print(X17_test.shape)"
   ]
  },
  {
   "cell_type": "code",
   "execution_count": 17,
   "metadata": {},
   "outputs": [
    {
     "name": "stderr",
     "output_type": "stream",
     "text": [
      "/home/jupyterlab/conda/envs/python/lib/python3.6/site-packages/sklearn/utils/validation.py:761: DataConversionWarning: A column-vector y was passed when a 1d array was expected. Please change the shape of y to (n_samples, ), for example using ravel().\n",
      "  y = column_or_1d(y, warn=True)\n"
     ]
    },
    {
     "data": {
      "text/plain": [
       "GradientBoostingRegressor(alpha=0.9, criterion='mse', init=None,\n",
       "             learning_rate=0.001, loss='ls', max_depth=45,\n",
       "             max_features='sqrt', max_leaf_nodes=None,\n",
       "             min_impurity_decrease=0.0, min_impurity_split=None,\n",
       "             min_samples_leaf=1, min_samples_split=2,\n",
       "             min_weight_fraction_leaf=0.0, n_estimators=3000,\n",
       "             n_iter_no_change=None, presort='auto', random_state=0,\n",
       "             subsample=1.0, tol=0.0001, validation_fraction=0.1, verbose=0,\n",
       "             warm_start=False)"
      ]
     },
     "execution_count": 17,
     "metadata": {},
     "output_type": "execute_result"
    }
   ],
   "source": [
    "from sklearn.ensemble import GradientBoostingRegressor\n",
    "model17=GradientBoostingRegressor(loss='ls',learning_rate=0.001,n_estimators=3000,max_features='sqrt',criterion=\"mse\",max_depth=45,random_state=0).fit(X17_train,y17_train)\n",
    "model17"
   ]
  },
  {
   "cell_type": "code",
   "execution_count": 21,
   "metadata": {},
   "outputs": [
    {
     "name": "stdout",
     "output_type": "stream",
     "text": [
      "R-squared for the GT Turbine coefficient on train data is:  0.994932837120402\n"
     ]
    }
   ],
   "source": [
    "from sklearn.metrics import r2_score\n",
    "y17hat=model17.predict(X17_train)\n",
    "print(\"R-squared for the GT Turbine coefficient on train data is: \",r2_score(y17_train,y17hat))"
   ]
  },
  {
   "cell_type": "code",
   "execution_count": 23,
   "metadata": {},
   "outputs": [
    {
     "name": "stdout",
     "output_type": "stream",
     "text": [
      "R-squared for the GT compressor coefficient on train data is:  0.9734362162951687\n"
     ]
    }
   ],
   "source": [
    "y17hat=model17.predict(X17_test)\n",
    "print(\"R-squared for the GT compressor coefficient on train data is: \",r2_score(y17_test,y17hat))"
   ]
  },
  {
   "cell_type": "code",
   "execution_count": 25,
   "metadata": {},
   "outputs": [
    {
     "name": "stdout",
     "output_type": "stream",
     "text": [
      "Absolute error for the GT Turbine coefficient on train data is: \n",
      " [0.    0.    0.001 ... 0.001 0.    0.001]\n"
     ]
    }
   ],
   "source": [
    "y17hat=model17.predict(X17_train)\n",
    "y17hat=np.asarray(y17hat).reshape(y17hat.shape[0],)\n",
    "y17_train=np.asarray(y17_train).reshape(y17_train.shape[0],)\n",
    "print(\"Absolute error for the GT Turbine coefficient on train data is: \\n\",abs(y17_train-y17hat))"
   ]
  },
  {
   "cell_type": "code",
   "execution_count": 26,
   "metadata": {},
   "outputs": [
    {
     "name": "stdout",
     "output_type": "stream",
     "text": [
      "Absolute error for the GT Turbine coefficient on test data is: \n",
      " [8.702e-05 1.948e-03 4.546e-04 ... 6.008e-05 9.015e-04 9.870e-04]\n"
     ]
    }
   ],
   "source": [
    "y17hat=model17.predict(X17_test)\n",
    "y17hat=np.asarray(y17hat).reshape(y17hat.shape[0],)\n",
    "y17_test=np.asarray(y17_test).reshape(y17_test.shape[0],)\n",
    "print(\"Absolute error for the GT Turbine coefficient on test data is: \\n\",abs(y17_test-y17hat))"
   ]
  },
  {
   "cell_type": "code",
   "execution_count": 27,
   "metadata": {},
   "outputs": [
    {
     "data": {
      "text/html": [
       "<div>\n",
       "<style scoped>\n",
       "    .dataframe tbody tr th:only-of-type {\n",
       "        vertical-align: middle;\n",
       "    }\n",
       "\n",
       "    .dataframe tbody tr th {\n",
       "        vertical-align: top;\n",
       "    }\n",
       "\n",
       "    .dataframe thead th {\n",
       "        text-align: right;\n",
       "    }\n",
       "</style>\n",
       "<table border=\"1\" class=\"dataframe\">\n",
       "  <thead>\n",
       "    <tr style=\"text-align: right;\">\n",
       "      <th></th>\n",
       "      <th>AbsoluteError_TestData</th>\n",
       "    </tr>\n",
       "  </thead>\n",
       "  <tbody>\n",
       "    <tr>\n",
       "      <th>1845</th>\n",
       "      <td>1.549965e-02</td>\n",
       "    </tr>\n",
       "    <tr>\n",
       "      <th>1322</th>\n",
       "      <td>1.028307e-02</td>\n",
       "    </tr>\n",
       "    <tr>\n",
       "      <th>1555</th>\n",
       "      <td>1.014463e-02</td>\n",
       "    </tr>\n",
       "    <tr>\n",
       "      <th>2231</th>\n",
       "      <td>9.685348e-03</td>\n",
       "    </tr>\n",
       "    <tr>\n",
       "      <th>1467</th>\n",
       "      <td>9.065795e-03</td>\n",
       "    </tr>\n",
       "    <tr>\n",
       "      <th>...</th>\n",
       "      <td>...</td>\n",
       "    </tr>\n",
       "    <tr>\n",
       "      <th>436</th>\n",
       "      <td>9.061503e-07</td>\n",
       "    </tr>\n",
       "    <tr>\n",
       "      <th>917</th>\n",
       "      <td>7.804063e-07</td>\n",
       "    </tr>\n",
       "    <tr>\n",
       "      <th>2261</th>\n",
       "      <td>7.438651e-07</td>\n",
       "    </tr>\n",
       "    <tr>\n",
       "      <th>687</th>\n",
       "      <td>4.820818e-07</td>\n",
       "    </tr>\n",
       "    <tr>\n",
       "      <th>1488</th>\n",
       "      <td>1.637075e-07</td>\n",
       "    </tr>\n",
       "  </tbody>\n",
       "</table>\n",
       "<p>2387 rows × 1 columns</p>\n",
       "</div>"
      ],
      "text/plain": [
       "      AbsoluteError_TestData\n",
       "1845            1.549965e-02\n",
       "1322            1.028307e-02\n",
       "1555            1.014463e-02\n",
       "2231            9.685348e-03\n",
       "1467            9.065795e-03\n",
       "...                      ...\n",
       "436             9.061503e-07\n",
       "917             7.804063e-07\n",
       "2261            7.438651e-07\n",
       "687             4.820818e-07\n",
       "1488            1.637075e-07\n",
       "\n",
       "[2387 rows x 1 columns]"
      ]
     },
     "execution_count": 27,
     "metadata": {},
     "output_type": "execute_result"
    }
   ],
   "source": [
    "AE17=pd.DataFrame(abs(y17_test-y17hat)).rename(columns={0:\"AbsoluteError_TestData\"}).sort_values(by=[\"AbsoluteError_TestData\"],ascending=False)\n",
    "AE17"
   ]
  },
  {
   "cell_type": "code",
   "execution_count": 28,
   "metadata": {},
   "outputs": [
    {
     "name": "stdout",
     "output_type": "stream",
     "text": [
      "The root mean squared error on test data is:  0.0012303263876443395\n"
     ]
    }
   ],
   "source": [
    "from sklearn.metrics import mean_squared_error as mse\n",
    "print(\"The root mean squared error on test data is: \",np.sqrt(mse(y17_test,y17hat)))"
   ]
  },
  {
   "cell_type": "markdown",
   "metadata": {},
   "source": [
    "Multiple output regression model with no feature selection."
   ]
  },
  {
   "cell_type": "code",
   "execution_count": 5,
   "metadata": {},
   "outputs": [
    {
     "data": {
      "text/html": [
       "<div>\n",
       "<style scoped>\n",
       "    .dataframe tbody tr th:only-of-type {\n",
       "        vertical-align: middle;\n",
       "    }\n",
       "\n",
       "    .dataframe tbody tr th {\n",
       "        vertical-align: top;\n",
       "    }\n",
       "\n",
       "    .dataframe thead th {\n",
       "        text-align: right;\n",
       "    }\n",
       "</style>\n",
       "<table border=\"1\" class=\"dataframe\">\n",
       "  <thead>\n",
       "    <tr style=\"text-align: right;\">\n",
       "      <th></th>\n",
       "      <th>16</th>\n",
       "      <th>17</th>\n",
       "    </tr>\n",
       "  </thead>\n",
       "  <tbody>\n",
       "    <tr>\n",
       "      <th>0</th>\n",
       "      <td>0.95</td>\n",
       "      <td>0.975</td>\n",
       "    </tr>\n",
       "    <tr>\n",
       "      <th>1</th>\n",
       "      <td>0.95</td>\n",
       "      <td>0.975</td>\n",
       "    </tr>\n",
       "    <tr>\n",
       "      <th>2</th>\n",
       "      <td>0.95</td>\n",
       "      <td>0.975</td>\n",
       "    </tr>\n",
       "    <tr>\n",
       "      <th>3</th>\n",
       "      <td>0.95</td>\n",
       "      <td>0.975</td>\n",
       "    </tr>\n",
       "    <tr>\n",
       "      <th>4</th>\n",
       "      <td>0.95</td>\n",
       "      <td>0.975</td>\n",
       "    </tr>\n",
       "  </tbody>\n",
       "</table>\n",
       "</div>"
      ],
      "text/plain": [
       "     16     17\n",
       "0  0.95  0.975\n",
       "1  0.95  0.975\n",
       "2  0.95  0.975\n",
       "3  0.95  0.975\n",
       "4  0.95  0.975"
      ]
     },
     "execution_count": 5,
     "metadata": {},
     "output_type": "execute_result"
    }
   ],
   "source": [
    "y=df.iloc[:,[16,17]]\n",
    "y.head()"
   ]
  },
  {
   "cell_type": "code",
   "execution_count": 6,
   "metadata": {},
   "outputs": [
    {
     "name": "stdout",
     "output_type": "stream",
     "text": [
      "(9547, 16)\n",
      "(2387, 16)\n"
     ]
    }
   ],
   "source": [
    "from sklearn.model_selection import train_test_split\n",
    "X_train, X_test, y_train, y_test = train_test_split(X, y, test_size=0.2, random_state=42)\n",
    "print(X_train.shape)\n",
    "print(X_test.shape)"
   ]
  },
  {
   "cell_type": "code",
   "execution_count": 7,
   "metadata": {},
   "outputs": [],
   "source": [
    "from sklearn.multioutput import MultiOutputRegressor\n",
    "from sklearn.ensemble import GradientBoostingRegressor"
   ]
  },
  {
   "cell_type": "code",
   "execution_count": 9,
   "metadata": {},
   "outputs": [
    {
     "data": {
      "text/plain": [
       "MultiOutputRegressor(estimator=GradientBoostingRegressor(alpha=0.9, criterion='mse', init=None,\n",
       "             learning_rate=0.001, loss='ls', max_depth=45,\n",
       "             max_features='sqrt', max_leaf_nodes=None,\n",
       "             min_impurity_decrease=0.0, min_impurity_split=None,\n",
       "             min_samples_leaf=1, min_samples_s...       subsample=1.0, tol=0.0001, validation_fraction=0.1, verbose=0,\n",
       "             warm_start=False),\n",
       "           n_jobs=None)"
      ]
     },
     "execution_count": 9,
     "metadata": {},
     "output_type": "execute_result"
    }
   ],
   "source": [
    "multi_model=MultiOutputRegressor(GradientBoostingRegressor(loss='ls',learning_rate=0.001,n_estimators=3000,max_features='sqrt',criterion=\"mse\",max_depth=45,random_state=0)).fit(X_train,y_train)\n",
    "multi_model"
   ]
  },
  {
   "cell_type": "code",
   "execution_count": 12,
   "metadata": {},
   "outputs": [
    {
     "name": "stdout",
     "output_type": "stream",
     "text": [
      "The root mean square error on test data for the  0 th target is , 0.0016300542694567199\n",
      "The root mean square error on test data for the  1 th target is , 0.0010498297906512818\n"
     ]
    }
   ],
   "source": [
    "from sklearn.metrics import mean_squared_error as mse\n",
    "import numpy as np\n",
    "y_pred=pd.DataFrame(multi_model.predict(X_test))\n",
    "n_classes=y_test.shape[1]\n",
    "for i in range(n_classes):\n",
    "    print(\"The root mean square error on test data for the \",i,\"th target is ,\", np.sqrt(mse(y_test.iloc[:,i],y_pred.iloc[:,i])))"
   ]
  },
  {
   "cell_type": "code",
   "execution_count": 13,
   "metadata": {},
   "outputs": [
    {
     "name": "stdout",
     "output_type": "stream",
     "text": [
      "The r-squared on test data for the  0 th target is , 0.987639905278979\n",
      "The r-squared on test data for the  1 th target is , 0.9806586384742164\n"
     ]
    }
   ],
   "source": [
    "from sklearn.metrics import r2_score as r2\n",
    "for i in range(n_classes):\n",
    "    print(\"The r-squared on test data for the \",i,\"th target is ,\", r2(y_test.iloc[:,i],y_pred.iloc[:,i], multioutput='variance_weighted'))"
   ]
  },
  {
   "cell_type": "code",
   "execution_count": 36,
   "metadata": {},
   "outputs": [
    {
     "data": {
      "text/html": [
       "<div>\n",
       "<style scoped>\n",
       "    .dataframe tbody tr th:only-of-type {\n",
       "        vertical-align: middle;\n",
       "    }\n",
       "\n",
       "    .dataframe tbody tr th {\n",
       "        vertical-align: top;\n",
       "    }\n",
       "\n",
       "    .dataframe thead th {\n",
       "        text-align: right;\n",
       "    }\n",
       "</style>\n",
       "<table border=\"1\" class=\"dataframe\">\n",
       "  <thead>\n",
       "    <tr style=\"text-align: right;\">\n",
       "      <th></th>\n",
       "      <th>AE16</th>\n",
       "      <th>AE17</th>\n",
       "    </tr>\n",
       "  </thead>\n",
       "  <tbody>\n",
       "    <tr>\n",
       "      <th>1845</th>\n",
       "      <td>0.005788</td>\n",
       "      <td>0.014048</td>\n",
       "    </tr>\n",
       "    <tr>\n",
       "      <th>1467</th>\n",
       "      <td>0.002461</td>\n",
       "      <td>0.007094</td>\n",
       "    </tr>\n",
       "    <tr>\n",
       "      <th>1766</th>\n",
       "      <td>0.004631</td>\n",
       "      <td>0.006793</td>\n",
       "    </tr>\n",
       "    <tr>\n",
       "      <th>1783</th>\n",
       "      <td>0.005779</td>\n",
       "      <td>0.006315</td>\n",
       "    </tr>\n",
       "    <tr>\n",
       "      <th>742</th>\n",
       "      <td>0.004213</td>\n",
       "      <td>0.006196</td>\n",
       "    </tr>\n",
       "    <tr>\n",
       "      <th>...</th>\n",
       "      <td>...</td>\n",
       "      <td>...</td>\n",
       "    </tr>\n",
       "    <tr>\n",
       "      <th>107</th>\n",
       "      <td>0.001143</td>\n",
       "      <td>0.000002</td>\n",
       "    </tr>\n",
       "    <tr>\n",
       "      <th>918</th>\n",
       "      <td>0.000716</td>\n",
       "      <td>0.000002</td>\n",
       "    </tr>\n",
       "    <tr>\n",
       "      <th>1597</th>\n",
       "      <td>0.001755</td>\n",
       "      <td>0.000001</td>\n",
       "    </tr>\n",
       "    <tr>\n",
       "      <th>415</th>\n",
       "      <td>0.001979</td>\n",
       "      <td>0.000001</td>\n",
       "    </tr>\n",
       "    <tr>\n",
       "      <th>538</th>\n",
       "      <td>0.000203</td>\n",
       "      <td>0.000001</td>\n",
       "    </tr>\n",
       "  </tbody>\n",
       "</table>\n",
       "<p>2387 rows × 2 columns</p>\n",
       "</div>"
      ],
      "text/plain": [
       "          AE16      AE17\n",
       "1845  0.005788  0.014048\n",
       "1467  0.002461  0.007094\n",
       "1766  0.004631  0.006793\n",
       "1783  0.005779  0.006315\n",
       "742   0.004213  0.006196\n",
       "...        ...       ...\n",
       "107   0.001143  0.000002\n",
       "918   0.000716  0.000002\n",
       "1597  0.001755  0.000001\n",
       "415   0.001979  0.000001\n",
       "538   0.000203  0.000001\n",
       "\n",
       "[2387 rows x 2 columns]"
      ]
     },
     "execution_count": 36,
     "metadata": {},
     "output_type": "execute_result"
    }
   ],
   "source": [
    "AE=pd.DataFrame(abs(np.asarray(y_test)-np.asarray(y_pred))).rename(columns={0:\"AE16\",1:\"AE17\"}).sort_values(by=[\"AE17\"],ascending=False)\n",
    "AE"
   ]
  },
  {
   "cell_type": "markdown",
   "metadata": {},
   "source": [
    "With the same hyper-parameters, even without feature selection, the multiple output regression mode by piling MultiOutputRegressor on top of GradientBoostingRegressor performs slightly better than the individual models, especially on the second target variable."
   ]
  },
  {
   "cell_type": "code",
   "execution_count": null,
   "metadata": {},
   "outputs": [],
   "source": []
  }
 ],
 "metadata": {
  "kernelspec": {
   "display_name": "Python",
   "language": "python",
   "name": "conda-env-python-py"
  },
  "language_info": {
   "codemirror_mode": {
    "name": "ipython",
    "version": 3
   },
   "file_extension": ".py",
   "mimetype": "text/x-python",
   "name": "python",
   "nbconvert_exporter": "python",
   "pygments_lexer": "ipython3",
   "version": "3.6.11"
  }
 },
 "nbformat": 4,
 "nbformat_minor": 4
}

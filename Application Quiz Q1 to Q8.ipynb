{
 "cells": [
  {
   "cell_type": "code",
   "execution_count": 1,
   "metadata": {},
   "outputs": [],
   "source": [
    "import pandas as pd\n",
    "df=pd.read_csv(\"crp_cleandata.csv\")"
   ]
  },
  {
   "cell_type": "code",
   "execution_count": 2,
   "metadata": {},
   "outputs": [
    {
     "data": {
      "text/html": [
       "<div>\n",
       "<style scoped>\n",
       "    .dataframe tbody tr th:only-of-type {\n",
       "        vertical-align: middle;\n",
       "    }\n",
       "\n",
       "    .dataframe tbody tr th {\n",
       "        vertical-align: top;\n",
       "    }\n",
       "\n",
       "    .dataframe thead th {\n",
       "        text-align: right;\n",
       "    }\n",
       "</style>\n",
       "<table border=\"1\" class=\"dataframe\">\n",
       "  <thead>\n",
       "    <tr style=\"text-align: right;\">\n",
       "      <th></th>\n",
       "      <th>Retailer</th>\n",
       "      <th>Salerank</th>\n",
       "      <th>X2013USSales</th>\n",
       "      <th>X2013WorldSales</th>\n",
       "      <th>ProfitMargin</th>\n",
       "      <th>NumStores</th>\n",
       "      <th>Industry</th>\n",
       "      <th>Reward</th>\n",
       "      <th>ProgramName</th>\n",
       "      <th>RewardType</th>\n",
       "      <th>RewardStructure</th>\n",
       "      <th>RewardSize</th>\n",
       "      <th>ExpirationMonth</th>\n",
       "      <th>IndustryType</th>\n",
       "    </tr>\n",
       "  </thead>\n",
       "  <tbody>\n",
       "    <tr>\n",
       "      <th>0</th>\n",
       "      <td>A&amp;P</td>\n",
       "      <td>74</td>\n",
       "      <td>5.831</td>\n",
       "      <td>5.831</td>\n",
       "      <td>48.85</td>\n",
       "      <td>0.277</td>\n",
       "      <td>Discount, Variety Stores</td>\n",
       "      <td>0</td>\n",
       "      <td>No rewards program</td>\n",
       "      <td>-</td>\n",
       "      <td>-</td>\n",
       "      <td>-</td>\n",
       "      <td>-</td>\n",
       "      <td>Discount</td>\n",
       "    </tr>\n",
       "    <tr>\n",
       "      <th>1</th>\n",
       "      <td>Albertsons</td>\n",
       "      <td>21</td>\n",
       "      <td>19.452</td>\n",
       "      <td>19.452</td>\n",
       "      <td>69.02</td>\n",
       "      <td>1.024</td>\n",
       "      <td>Grocery Stores</td>\n",
       "      <td>0</td>\n",
       "      <td>No rewards program</td>\n",
       "      <td>-</td>\n",
       "      <td>-</td>\n",
       "      <td>-</td>\n",
       "      <td>-</td>\n",
       "      <td>Grocery</td>\n",
       "    </tr>\n",
       "    <tr>\n",
       "      <th>2</th>\n",
       "      <td>Aldi</td>\n",
       "      <td>38</td>\n",
       "      <td>10.898</td>\n",
       "      <td>10.650</td>\n",
       "      <td>69.41</td>\n",
       "      <td>1.328</td>\n",
       "      <td>Grocery Stores</td>\n",
       "      <td>0</td>\n",
       "      <td>No rewards program</td>\n",
       "      <td>-</td>\n",
       "      <td>-</td>\n",
       "      <td>-</td>\n",
       "      <td>-</td>\n",
       "      <td>Grocery</td>\n",
       "    </tr>\n",
       "    <tr>\n",
       "      <th>3</th>\n",
       "      <td>Alimentation Couche Tard (Circle K)</td>\n",
       "      <td>82</td>\n",
       "      <td>4.755</td>\n",
       "      <td>8.551</td>\n",
       "      <td>68.03</td>\n",
       "      <td>3.826</td>\n",
       "      <td>Grocery Stores</td>\n",
       "      <td>0</td>\n",
       "      <td>No rewards program</td>\n",
       "      <td>-</td>\n",
       "      <td>-</td>\n",
       "      <td>-</td>\n",
       "      <td>-</td>\n",
       "      <td>Grocery</td>\n",
       "    </tr>\n",
       "    <tr>\n",
       "      <th>4</th>\n",
       "      <td>Apple Stores</td>\n",
       "      <td>15</td>\n",
       "      <td>26.648</td>\n",
       "      <td>30.736</td>\n",
       "      <td>11.07</td>\n",
       "      <td>0.254</td>\n",
       "      <td>ElectronicEquipment</td>\n",
       "      <td>0</td>\n",
       "      <td>No rewards program</td>\n",
       "      <td>-</td>\n",
       "      <td>-</td>\n",
       "      <td>-</td>\n",
       "      <td>-</td>\n",
       "      <td>Specialty</td>\n",
       "    </tr>\n",
       "  </tbody>\n",
       "</table>\n",
       "</div>"
      ],
      "text/plain": [
       "                              Retailer  Salerank  X2013USSales  \\\n",
       "0                                  A&P        74         5.831   \n",
       "1                           Albertsons        21        19.452   \n",
       "2                                 Aldi        38        10.898   \n",
       "3  Alimentation Couche Tard (Circle K)        82         4.755   \n",
       "4                         Apple Stores        15        26.648   \n",
       "\n",
       "   X2013WorldSales  ProfitMargin  NumStores                  Industry  Reward  \\\n",
       "0            5.831         48.85      0.277  Discount, Variety Stores       0   \n",
       "1           19.452         69.02      1.024            Grocery Stores       0   \n",
       "2           10.650         69.41      1.328            Grocery Stores       0   \n",
       "3            8.551         68.03      3.826            Grocery Stores       0   \n",
       "4           30.736         11.07      0.254       ElectronicEquipment       0   \n",
       "\n",
       "          ProgramName RewardType RewardStructure RewardSize ExpirationMonth  \\\n",
       "0  No rewards program          -               -          -               -   \n",
       "1  No rewards program          -               -          -               -   \n",
       "2  No rewards program          -               -          -               -   \n",
       "3  No rewards program          -               -          -               -   \n",
       "4  No rewards program          -               -          -               -   \n",
       "\n",
       "  IndustryType  \n",
       "0     Discount  \n",
       "1      Grocery  \n",
       "2      Grocery  \n",
       "3      Grocery  \n",
       "4    Specialty  "
      ]
     },
     "execution_count": 2,
     "metadata": {},
     "output_type": "execute_result"
    }
   ],
   "source": [
    "df.head()"
   ]
  },
  {
   "cell_type": "code",
   "execution_count": 3,
   "metadata": {},
   "outputs": [
    {
     "data": {
      "text/plain": [
       "(100, 14)"
      ]
     },
     "execution_count": 3,
     "metadata": {},
     "output_type": "execute_result"
    }
   ],
   "source": [
    "df.shape"
   ]
  },
  {
   "cell_type": "code",
   "execution_count": 4,
   "metadata": {},
   "outputs": [
    {
     "data": {
      "text/plain": [
       "Index(['Retailer', 'Salerank', 'X2013USSales', 'X2013WorldSales',\n",
       "       'ProfitMargin', 'NumStores', 'Industry', 'Reward', 'ProgramName',\n",
       "       'RewardType', 'RewardStructure', 'RewardSize', 'ExpirationMonth',\n",
       "       'IndustryType'],\n",
       "      dtype='object')"
      ]
     },
     "execution_count": 4,
     "metadata": {},
     "output_type": "execute_result"
    }
   ],
   "source": [
    "df.columns"
   ]
  },
  {
   "cell_type": "code",
   "execution_count": 5,
   "metadata": {},
   "outputs": [
    {
     "data": {
      "text/plain": [
       "Retailer            object\n",
       "Salerank             int64\n",
       "X2013USSales       float64\n",
       "X2013WorldSales    float64\n",
       "ProfitMargin       float64\n",
       "NumStores          float64\n",
       "Industry            object\n",
       "Reward               int64\n",
       "ProgramName         object\n",
       "RewardType          object\n",
       "RewardStructure     object\n",
       "RewardSize          object\n",
       "ExpirationMonth     object\n",
       "IndustryType        object\n",
       "dtype: object"
      ]
     },
     "execution_count": 5,
     "metadata": {},
     "output_type": "execute_result"
    }
   ],
   "source": [
    "df.dtypes"
   ]
  },
  {
   "cell_type": "code",
   "execution_count": 6,
   "metadata": {},
   "outputs": [
    {
     "name": "stdout",
     "output_type": "stream",
     "text": [
      "(46, 14)\n",
      "336.0\n"
     ]
    }
   ],
   "source": [
    "df=df[df[\"Reward\"]!=0]\n",
    "df=df[df[\"NumStores\"]!=0]\n",
    "df=df[df[\"ExpirationMonth\"]!=\"999\"]\n",
    "print(df.shape)\n",
    "print(df[\"ExpirationMonth\"].astype(float).sum())"
   ]
  },
  {
   "cell_type": "code",
   "execution_count": 17,
   "metadata": {},
   "outputs": [],
   "source": [
    "from sklearn.linear_model import LinearRegression\n",
    "from sklearn.metrics import r2_score"
   ]
  },
  {
   "cell_type": "code",
   "execution_count": 18,
   "metadata": {},
   "outputs": [
    {
     "name": "stdout",
     "output_type": "stream",
     "text": [
      "R_square for Salerank 0.06215426746125208\n",
      "Intercept for Salerank [10.43886397]\n",
      "Coefficient for Salerank [[-0.06486178]]\n",
      "\n",
      "\n",
      "R_square for X2013USSales 0.00843068655897894\n",
      "Intercept for X2013USSales [7.908877]\n",
      "Coefficient for X2013USSales [[-0.03565556]]\n",
      "\n",
      "\n",
      "R_square for X2013WorldSales 0.005105133339089907\n",
      "Intercept for X2013WorldSales [7.80172806]\n",
      "Coefficient for X2013WorldSales [[-0.0234976]]\n",
      "\n",
      "\n",
      "R_square for ProfitMargin 0.009531607075927595\n",
      "Intercept for ProfitMargin [8.55066839]\n",
      "Coefficient for ProfitMargin [[-0.02689186]]\n",
      "\n",
      "\n",
      "R_square for NumStores 0.2537147187434303\n",
      "Intercept for NumStores [4.82846651]\n",
      "Coefficient for NumStores [[0.88984632]]\n",
      "\n",
      "\n"
     ]
    }
   ],
   "source": [
    "variables=['Salerank', 'X2013USSales', 'X2013WorldSales',\n",
    "       'ProfitMargin', 'NumStores']\n",
    "y=df[[\"ExpirationMonth\"]].astype(float)\n",
    "for variable in variables:\n",
    "    reg=LinearRegression().fit(df[[variable]], y)\n",
    "    y_pred=reg.predict(df[[variable]])\n",
    "    print(f\"R_square for {variable}\",r2_score(y,y_pred))\n",
    "    print(f\"Intercept for {variable}\",reg.intercept_)\n",
    "    print(f\"Coefficient for {variable}\",reg.coef_)\n",
    "    print(\"\\n\")"
   ]
  },
  {
   "cell_type": "markdown",
   "metadata": {},
   "source": [
    "#### The variable with the highest R-squared is \"NumStores\". "
   ]
  },
  {
   "cell_type": "code",
   "execution_count": 31,
   "metadata": {},
   "outputs": [
    {
     "data": {
      "text/plain": [
       "0.2537147187434303"
      ]
     },
     "execution_count": 31,
     "metadata": {},
     "output_type": "execute_result"
    }
   ],
   "source": [
    "# Model 1: Neither variable is transformed - Q5\n",
    "reg=LinearRegression().fit(df[[\"NumStores\"]], y)\n",
    "y_pred=reg.predict(df[[\"NumStores\"]])\n",
    "r2_score(y,y_pred)"
   ]
  },
  {
   "cell_type": "code",
   "execution_count": 32,
   "metadata": {},
   "outputs": [
    {
     "data": {
      "text/plain": [
       "0.07041983612024394"
      ]
     },
     "execution_count": 32,
     "metadata": {},
     "output_type": "execute_result"
    }
   ],
   "source": [
    "# Model 2: Only the target variable is transformed -Q6\n",
    "import numpy as np\n",
    "reg=LinearRegression().fit(df[[\"NumStores\"]], np.log(y))\n",
    "y_pred=reg.predict(df[[\"NumStores\"]])\n",
    "r2_score(np.log(y),y_pred)"
   ]
  },
  {
   "cell_type": "code",
   "execution_count": 33,
   "metadata": {},
   "outputs": [
    {
     "data": {
      "text/plain": [
       "0.14469682613098556"
      ]
     },
     "execution_count": 33,
     "metadata": {},
     "output_type": "execute_result"
    }
   ],
   "source": [
    "# Model 3: Only explanatory variable is transformed -Q7\n",
    "reg=LinearRegression().fit(np.log(df[[\"NumStores\"]]), y)\n",
    "y_pred=reg.predict(np.log(df[[\"NumStores\"]]))\n",
    "r2_score(y,y_pred)"
   ]
  },
  {
   "cell_type": "code",
   "execution_count": 34,
   "metadata": {},
   "outputs": [
    {
     "data": {
      "text/plain": [
       "0.06526684762496393"
      ]
     },
     "execution_count": 34,
     "metadata": {},
     "output_type": "execute_result"
    }
   ],
   "source": [
    "# Model 4: Both variables are transformed: - Q8\n",
    "reg=LinearRegression().fit(np.log(df[[\"NumStores\"]]), np.log(y))\n",
    "y_pred=reg.predict(np.log(df[[\"NumStores\"]]))\n",
    "r2_score(np.log(y),y_pred)"
   ]
  },
  {
   "cell_type": "code",
   "execution_count": null,
   "metadata": {},
   "outputs": [],
   "source": []
  }
 ],
 "metadata": {
  "kernelspec": {
   "display_name": "Python 3",
   "language": "python",
   "name": "python3"
  },
  "language_info": {
   "codemirror_mode": {
    "name": "ipython",
    "version": 3
   },
   "file_extension": ".py",
   "mimetype": "text/x-python",
   "name": "python",
   "nbconvert_exporter": "python",
   "pygments_lexer": "ipython3",
   "version": "3.6.11"
  }
 },
 "nbformat": 4,
 "nbformat_minor": 4
}
